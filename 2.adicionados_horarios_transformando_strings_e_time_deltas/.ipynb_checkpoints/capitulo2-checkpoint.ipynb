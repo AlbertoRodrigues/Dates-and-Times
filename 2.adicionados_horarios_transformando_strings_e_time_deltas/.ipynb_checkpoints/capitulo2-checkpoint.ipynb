{
 "cells": [
  {
   "cell_type": "code",
   "execution_count": 1,
   "id": "93189700",
   "metadata": {},
   "outputs": [],
   "source": [
    "from datetime import datetime"
   ]
  },
  {
   "cell_type": "markdown",
   "id": "455d4281",
   "metadata": {},
   "source": [
    "### O pacote datetime também permite que possamos incluir o horário"
   ]
  },
  {
   "cell_type": "code",
   "execution_count": 3,
   "id": "aeb50554",
   "metadata": {},
   "outputs": [
    {
     "data": {
      "text/plain": [
       "datetime.datetime(2017, 10, 1, 15, 23, 25)"
      ]
     },
     "execution_count": 3,
     "metadata": {},
     "output_type": "execute_result"
    }
   ],
   "source": [
    "# Ordem é Ano->Mês->Dia->Hora->Minuto->Segundo\n",
    "dt = datetime(2017, 10, 1, 15, 23, 25)\n",
    "dt"
   ]
  },
  {
   "cell_type": "code",
   "execution_count": 4,
   "id": "b37280d9",
   "metadata": {},
   "outputs": [
    {
     "data": {
      "text/plain": [
       "datetime.datetime(2017, 10, 1, 15, 23, 25, 500000)"
      ]
     },
     "execution_count": 4,
     "metadata": {},
     "output_type": "execute_result"
    }
   ],
   "source": [
    "# Existe várias unidades de data e horário, como a unidade microsegundos\n",
    "dt = datetime(year=2017, month=10, day=1,\n",
    "hour=15, minute=23, second=25,\n",
    "microsecond=500000)\n",
    "dt"
   ]
  },
  {
   "cell_type": "code",
   "execution_count": 5,
   "id": "19d30afd",
   "metadata": {},
   "outputs": [
    {
     "name": "stdout",
     "output_type": "stream",
     "text": [
      "2017-10-01 15:23:25.500000\n"
     ]
    }
   ],
   "source": [
    "print(dt)"
   ]
  },
  {
   "cell_type": "code",
   "execution_count": 6,
   "id": "bbe839cb",
   "metadata": {},
   "outputs": [
    {
     "name": "stdout",
     "output_type": "stream",
     "text": [
      "2017-10-01 15:00:00\n"
     ]
    }
   ],
   "source": [
    "# Função que substitui partes específicas de uma data\n",
    "dt_hr = dt.replace(minute=0, second=0, microsecond=0)\n",
    "print(dt_hr)"
   ]
  },
  {
   "cell_type": "markdown",
   "id": "4cf26668",
   "metadata": {},
   "source": [
    "### Existem duas funções muito importantes se tratando de datas:\n",
    "1. Função strftime: Usada para transformar o objeto data em string\n",
    "2. Função strptime: Usada para transformar o objeto string em data"
   ]
  },
  {
   "cell_type": "code",
   "execution_count": 7,
   "id": "16b08b5c",
   "metadata": {},
   "outputs": [
    {
     "name": "stdout",
     "output_type": "stream",
     "text": [
      "15:23:25 on 2017/10/01/\n"
     ]
    }
   ],
   "source": [
    "# Printando datas em qualquer formato de string\n",
    "print(dt.strftime(\"%H:%M:%S on %Y/%m/%d/\"))"
   ]
  },
  {
   "cell_type": "code",
   "execution_count": 8,
   "id": "0ff767e6",
   "metadata": {},
   "outputs": [
    {
     "data": {
      "text/plain": [
       "datetime.datetime(2017, 12, 30, 15, 19, 13)"
      ]
     },
     "execution_count": 8,
     "metadata": {},
     "output_type": "execute_result"
    }
   ],
   "source": [
    "# Transformando string em data\n",
    "dt = datetime.strptime(\"12/30/2017 15:19:13\",\n",
    "\"%m/%d/%Y %H:%M:%S\")\n",
    "dt"
   ]
  },
  {
   "cell_type": "code",
   "execution_count": 9,
   "id": "82abf039",
   "metadata": {},
   "outputs": [
    {
     "name": "stdout",
     "output_type": "stream",
     "text": [
      "2017-12-30 15:19:13\n"
     ]
    }
   ],
   "source": [
    "print(dt)"
   ]
  },
  {
   "cell_type": "code",
   "execution_count": 25,
   "id": "c1ff5b63",
   "metadata": {},
   "outputs": [],
   "source": [
    "# Para usar a função strptime, devemos fornecer todos as informações necessárias para a data, caso falte alguma, dará erro. \n",
    "# Por exemplo:\n",
    "#dt = datetime.strptime(\"2017-12-30 15:19:13\", \"%Y-%m-%d\")\n",
    "# Dará erro porque não especificamos o horário: hora, minuto e segundo"
   ]
  },
  {
   "cell_type": "markdown",
   "id": "42d96292",
   "metadata": {},
   "source": [
    "### Existem funções para sabermos a diferença de duas datas em vários formatos"
   ]
  },
  {
   "cell_type": "code",
   "execution_count": 13,
   "id": "92ff1419",
   "metadata": {},
   "outputs": [
    {
     "name": "stdout",
     "output_type": "stream",
     "text": [
      "0:24:10\n",
      "1450.0\n"
     ]
    }
   ],
   "source": [
    "start = datetime(2017, 10, 8, 23, 46, 47)\n",
    "end = datetime(2017, 10, 9, 0, 10, 57)\n",
    "duration = end - start\n",
    "print(duration)\n",
    "print(duration.total_seconds())"
   ]
  },
  {
   "cell_type": "markdown",
   "id": "dc58dace",
   "metadata": {},
   "source": [
    "### Objetos time delta são bem interessantes. Serve para somar, subtrair datas e também são resultados subtração de datas, por exemplo."
   ]
  },
  {
   "cell_type": "code",
   "execution_count": 16,
   "id": "f84b6dca",
   "metadata": {},
   "outputs": [],
   "source": [
    "from datetime import timedelta"
   ]
  },
  {
   "cell_type": "code",
   "execution_count": 17,
   "id": "15b9d665",
   "metadata": {},
   "outputs": [],
   "source": [
    "delta1 = timedelta(seconds=1)"
   ]
  },
  {
   "cell_type": "code",
   "execution_count": 18,
   "id": "0c96d2be",
   "metadata": {},
   "outputs": [
    {
     "name": "stdout",
     "output_type": "stream",
     "text": [
      "2017-10-08 23:46:47\n",
      "2017-10-08 23:46:48\n"
     ]
    }
   ],
   "source": [
    "print(start)\n",
    "print(start + delta1)"
   ]
  },
  {
   "cell_type": "code",
   "execution_count": 19,
   "id": "f2d8745a",
   "metadata": {},
   "outputs": [],
   "source": [
    "delta2 = timedelta(days=1, seconds=1)"
   ]
  },
  {
   "cell_type": "code",
   "execution_count": 20,
   "id": "751318f4",
   "metadata": {},
   "outputs": [
    {
     "name": "stdout",
     "output_type": "stream",
     "text": [
      "2017-10-08 23:46:47\n",
      "2017-10-09 23:46:48\n"
     ]
    }
   ],
   "source": [
    "print(start)\n",
    "print(start + delta2)"
   ]
  },
  {
   "cell_type": "code",
   "execution_count": 21,
   "id": "c37f850f",
   "metadata": {},
   "outputs": [],
   "source": [
    "delta3 = timedelta(weeks=-1)"
   ]
  },
  {
   "cell_type": "code",
   "execution_count": 22,
   "id": "603014eb",
   "metadata": {},
   "outputs": [
    {
     "name": "stdout",
     "output_type": "stream",
     "text": [
      "2017-10-08 23:46:47\n",
      "2017-10-01 23:46:47\n"
     ]
    }
   ],
   "source": [
    "print(start)\n",
    "print(start + delta3)"
   ]
  },
  {
   "cell_type": "code",
   "execution_count": 23,
   "id": "5cb3624b",
   "metadata": {},
   "outputs": [],
   "source": [
    "delta4 = timedelta(weeks=1)"
   ]
  },
  {
   "cell_type": "code",
   "execution_count": 24,
   "id": "15b5439d",
   "metadata": {},
   "outputs": [
    {
     "name": "stdout",
     "output_type": "stream",
     "text": [
      "2017-10-08 23:46:47\n",
      "2017-10-01 23:46:47\n"
     ]
    }
   ],
   "source": [
    "print(start)\n",
    "print(start - delta4)"
   ]
  }
 ],
 "metadata": {
  "kernelspec": {
   "display_name": "Python 3 (ipykernel)",
   "language": "python",
   "name": "python3"
  },
  "language_info": {
   "codemirror_mode": {
    "name": "ipython",
    "version": 3
   },
   "file_extension": ".py",
   "mimetype": "text/x-python",
   "name": "python",
   "nbconvert_exporter": "python",
   "pygments_lexer": "ipython3",
   "version": "3.9.7"
  }
 },
 "nbformat": 4,
 "nbformat_minor": 5
}

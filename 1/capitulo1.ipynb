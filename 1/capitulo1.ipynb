{
 "cells": [
  {
   "cell_type": "markdown",
   "id": "586b2b8c",
   "metadata": {},
   "source": [
    "### Datas é um tipo muito especial, então devemos tratar elas adequadamente para responder algumas perguntas específicas sobre essa classe. "
   ]
  },
  {
   "cell_type": "code",
   "execution_count": 1,
   "id": "b60bb2e7",
   "metadata": {},
   "outputs": [],
   "source": [
    "date=[\"10/08/2010\", \"27/06/2018\"]"
   ]
  },
  {
   "cell_type": "markdown",
   "id": "955beb02",
   "metadata": {},
   "source": [
    "### A partir dessas duas datas com formato de string, como saberemos:\n",
    "1. Quantos dias passaram entre essas duas datas?\n",
    "2. Qual é a data mais cedo e qual a mais tarde?\n",
    "3. Qual dia da semana aconteceu uma data específica?\n",
    "4. Filtrar datas que ocorreram entre essas duas datas\n",
    "\n",
    "### São perguntas como essas que precisam que de uma classe específica de datas em python"
   ]
  },
  {
   "cell_type": "code",
   "execution_count": 3,
   "id": "6fd6acd1",
   "metadata": {},
   "outputs": [],
   "source": [
    "from datetime import date"
   ]
  },
  {
   "cell_type": "code",
   "execution_count": 4,
   "id": "c9b0c429",
   "metadata": {},
   "outputs": [],
   "source": [
    "## Objetos da classe datetime\n",
    "dates=[date(2010, 8, 10), date(2018, 6, 27)]"
   ]
  },
  {
   "cell_type": "markdown",
   "id": "9b66b805",
   "metadata": {},
   "source": [
    "### Podemos acessar os atributos de data como ano, mês e dia"
   ]
  },
  {
   "cell_type": "code",
   "execution_count": 5,
   "id": "de9f344c",
   "metadata": {},
   "outputs": [
    {
     "name": "stdout",
     "output_type": "stream",
     "text": [
      "2010\n",
      "8\n",
      "10\n"
     ]
    }
   ],
   "source": [
    "print(dates[0].year)\n",
    "print(dates[0].month)\n",
    "print(dates[0].day)"
   ]
  },
  {
   "cell_type": "markdown",
   "id": "d7dceab3",
   "metadata": {},
   "source": [
    "### Atributo dia da semana.\n",
    "#### 0=Segunda, 1=Terça,...,6=Domingo"
   ]
  },
  {
   "cell_type": "code",
   "execution_count": 9,
   "id": "d7d51783",
   "metadata": {},
   "outputs": [
    {
     "data": {
      "text/plain": [
       "1"
      ]
     },
     "execution_count": 9,
     "metadata": {},
     "output_type": "execute_result"
    }
   ],
   "source": [
    "# Terça\n",
    "dates[0].weekday()"
   ]
  },
  {
   "cell_type": "markdown",
   "id": "95ae11a0",
   "metadata": {},
   "source": [
    "## Também podemos fazer cálculos com essa classe de datas como calcular diferença, soma, máximo e mínimo"
   ]
  },
  {
   "cell_type": "code",
   "execution_count": 11,
   "id": "03fa6829",
   "metadata": {},
   "outputs": [
    {
     "name": "stdout",
     "output_type": "stream",
     "text": [
      "2018-06-27\n",
      "2010-08-10\n"
     ]
    }
   ],
   "source": [
    "print(max(dates))\n",
    "print(min(dates))"
   ]
  },
  {
   "cell_type": "code",
   "execution_count": 12,
   "id": "fbc793ac",
   "metadata": {},
   "outputs": [
    {
     "data": {
      "text/plain": [
       "datetime.timedelta(days=2878)"
      ]
     },
     "execution_count": 12,
     "metadata": {},
     "output_type": "execute_result"
    }
   ],
   "source": [
    "delta=dates[1]-dates[0]\n",
    "delta"
   ]
  },
  {
   "cell_type": "code",
   "execution_count": 13,
   "id": "8dcbf836",
   "metadata": {},
   "outputs": [
    {
     "data": {
      "text/plain": [
       "2878"
      ]
     },
     "execution_count": 13,
     "metadata": {},
     "output_type": "execute_result"
    }
   ],
   "source": [
    "delta.days"
   ]
  },
  {
   "cell_type": "markdown",
   "id": "4c92f76d",
   "metadata": {},
   "source": [
    "### Transformação de objeto data em string"
   ]
  },
  {
   "cell_type": "code",
   "execution_count": 15,
   "id": "5c9bfb4e",
   "metadata": {},
   "outputs": [
    {
     "name": "stdout",
     "output_type": "stream",
     "text": [
      "2010-08-10\n"
     ]
    }
   ],
   "source": [
    "# Formato Ano-Mês-Dia\n",
    "print(dates[0])"
   ]
  },
  {
   "cell_type": "code",
   "execution_count": 16,
   "id": "fcf9b770",
   "metadata": {},
   "outputs": [
    {
     "data": {
      "text/plain": [
       "'2010-08-10'"
      ]
     },
     "execution_count": 16,
     "metadata": {},
     "output_type": "execute_result"
    }
   ],
   "source": [
    "dates[0].isoformat()"
   ]
  },
  {
   "cell_type": "code",
   "execution_count": 18,
   "id": "3963bc2b",
   "metadata": {},
   "outputs": [
    {
     "name": "stdout",
     "output_type": "stream",
     "text": [
      "[datetime.date(2010, 8, 10), datetime.date(2018, 6, 27)]\n"
     ]
    }
   ],
   "source": [
    "# Ordenando datas\n",
    "print(sorted(dates))"
   ]
  },
  {
   "cell_type": "markdown",
   "id": "c32a9dc5",
   "metadata": {},
   "source": [
    "### Transformação para string em algum formato específico: utilizar função strftime(format)"
   ]
  },
  {
   "cell_type": "code",
   "execution_count": 19,
   "id": "7b646101",
   "metadata": {},
   "outputs": [],
   "source": [
    "date=date(2022, 8, 17)"
   ]
  },
  {
   "cell_type": "code",
   "execution_count": 20,
   "id": "772fed99",
   "metadata": {},
   "outputs": [
    {
     "data": {
      "text/plain": [
       "'Ano atual é 2022'"
      ]
     },
     "execution_count": 20,
     "metadata": {},
     "output_type": "execute_result"
    }
   ],
   "source": [
    "date.strftime(\"Ano atual é %Y\")"
   ]
  },
  {
   "cell_type": "code",
   "execution_count": 21,
   "id": "f7611f59",
   "metadata": {},
   "outputs": [
    {
     "data": {
      "text/plain": [
       "'2022|08|17'"
      ]
     },
     "execution_count": 21,
     "metadata": {},
     "output_type": "execute_result"
    }
   ],
   "source": [
    "date.strftime(\"%Y|%m|%d\")"
   ]
  }
 ],
 "metadata": {
  "kernelspec": {
   "display_name": "Python 3 (ipykernel)",
   "language": "python",
   "name": "python3"
  },
  "language_info": {
   "codemirror_mode": {
    "name": "ipython",
    "version": 3
   },
   "file_extension": ".py",
   "mimetype": "text/x-python",
   "name": "python",
   "nbconvert_exporter": "python",
   "pygments_lexer": "ipython3",
   "version": "3.9.7"
  }
 },
 "nbformat": 4,
 "nbformat_minor": 5
}
